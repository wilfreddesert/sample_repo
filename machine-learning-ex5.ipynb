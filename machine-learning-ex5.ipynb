{
 "cells": [
  {
   "cell_type": "markdown",
   "metadata": {},
   "source": [
    "# 1 Regularized Linear Regression"
   ]
  },
  {
   "cell_type": "markdown",
   "metadata": {},
   "source": [
    "# 1.1 Visualizing the data"
   ]
  },
  {
   "cell_type": "code",
   "execution_count": 234,
   "metadata": {},
   "outputs": [],
   "source": [
    "import numpy as np\n",
    "import scipy.optimize as optimize\n",
    "import scipy.io as sio\n",
    "import matplotlib.pyplot as plt\n",
    "%matplotlib inline"
   ]
  },
  {
   "cell_type": "code",
   "execution_count": 235,
   "metadata": {},
   "outputs": [],
   "source": [
    "mat = sio.loadmat('ex5data1.mat')"
   ]
  },
  {
   "cell_type": "code",
   "execution_count": 236,
   "metadata": {},
   "outputs": [
    {
     "data": {
      "text/plain": [
       "dict_keys(['__header__', '__version__', '__globals__', 'X', 'y', 'Xtest', 'ytest', 'Xval', 'yval'])"
      ]
     },
     "execution_count": 236,
     "metadata": {},
     "output_type": "execute_result"
    }
   ],
   "source": [
    "mat.keys()"
   ]
  },
  {
   "cell_type": "code",
   "execution_count": 237,
   "metadata": {},
   "outputs": [],
   "source": [
    "x = mat['X']\n",
    "y = mat['y']\n",
    "x_test = mat['Xtest']\n",
    "y_test = mat['ytest']\n",
    "x_val = mat['Xval']\n",
    "y_val = mat['yval']"
   ]
  },
  {
   "cell_type": "code",
   "execution_count": 238,
   "metadata": {},
   "outputs": [
    {
     "data": {
      "image/png": "[encoded data removed]",
      "text/plain": [
       "<Figure size 432x288 with 1 Axes>"
      ]
     },
     "metadata": {
      "needs_background": "light"
     },
     "output_type": "display_data"
    }
   ],
   "source": [
    "plt.scatter(X, y, marker='x', c='red')\n",
    "plt.xlabel('Change in water level(x)')\n",
    "plt.ylabel('Water flowing out of the dam(y)')\n",
    "plt.title('Figure 1: Data')\n",
    "plt.show()"
   ]
  },
  {
   "cell_type": "markdown",
   "metadata": {},
   "source": [
    "# 1.2 Regularized linear regression cost function"
   ]
  },
  {
   "cell_type": "code",
   "execution_count": 239,
   "metadata": {},
   "outputs": [],
   "source": [
    "def linearRegCostFunction(theta, x, y,l):\n",
    "    m = len(y)\n",
    "    h = x @ theta\n",
    "    err = h - y\n",
    "    J = 0.5 / m * err.T @ err + l * 0.5 / m * theta[1:].T @ theta[1:]\n",
    "    \n",
    "    return J[0, 0]"
   ]
  },
  {
   "cell_type": "code",
   "execution_count": 240,
   "metadata": {},
   "outputs": [
    {
     "data": {
      "text/plain": [
       "303.9931922202643"
      ]
     },
     "execution_count": 240,
     "metadata": {},
     "output_type": "execute_result"
    }
   ],
   "source": [
    "theta = np.ones((2, 1))\n",
    "x = np.append(np.ones((x.shape[0], 1)), x, axis=1)\n",
    "linearRegCostFunction(theta, x, y, 1)\n",
    "## expected value 303.993"
   ]
  },
  {
   "cell_type": "code",
   "execution_count": null,
   "metadata": {},
   "outputs": [],
   "source": []
  },
  {
   "cell_type": "markdown",
   "metadata": {},
   "source": [
    "# 1.3 Regularized linear regression gradient"
   ]
  },
  {
   "cell_type": "code",
   "execution_count": 241,
   "metadata": {},
   "outputs": [],
   "source": [
    "def linearRegGradFunction(theta, x, y, l):\n",
    "    m = len(y)\n",
    "    grad = 1 / m * x.T @ (x @ theta - y)\n",
    "   \n",
    "    grad[1:] = grad[1:] + l / m * theta[1:]\n",
    "    \n",
    "    return grad[:, 0]"
   ]
  },
  {
   "cell_type": "code",
   "execution_count": 242,
   "metadata": {},
   "outputs": [
    {
     "data": {
      "text/plain": [
       "array([-15.30301567, 598.25074417])"
      ]
     },
     "execution_count": 242,
     "metadata": {},
     "output_type": "execute_result"
    }
   ],
   "source": [
    "linearRegGradFunction(theta, x, y, 1)\n",
    "## expected value [-15.303016; 598.250744]"
   ]
  },
  {
   "cell_type": "code",
   "execution_count": 253,
   "metadata": {},
   "outputs": [],
   "source": [
    "def trainLinearReg(x, y, l):\n",
    "    initial_theta = np.zeros((x.shape[1], 1))\n",
    "    theta = optimize.fmin_cg(linearRegCostFunction, x0=initial_theta, fprime=linearRegGradFunction, maxiter=200, args=(x, y, l))\n",
    "    return theta"
   ]
  },
  {
   "cell_type": "code",
   "execution_count": 254,
   "metadata": {},
   "outputs": [],
   "source": [
    "def featureNormalize(x):\n",
    "    x_norm = x\n",
    "    num_feat = x.shape[1]\n",
    "    mu = np.zeros([1, num_feat])\n",
    "    sigma = np.zeros([1, num_feat])\n",
    "    \n",
    "    mu = np.mean(x, axis=0)\n",
    "    sigma = np.std(x, axis=0)\n",
    "    \n",
    "    x_norm = (x - mu) / sigma\n",
    "    \n",
    "    return x_norm"
   ]
  },
  {
   "cell_type": "code",
   "execution_count": 255,
   "metadata": {},
   "outputs": [],
   "source": [
    "x_norm = featureNormalize(X)\n",
    "x_norm = np.append(np.ones((x_norm.shape[0], 1)), x_norm, axis=1)"
   ]
  },
  {
   "cell_type": "code",
   "execution_count": 256,
   "metadata": {},
   "outputs": [
    {
     "name": "stdout",
     "output_type": "stream",
     "text": [
      "Warning: Desired error not necessarily achieved due to precision loss.\n",
      "         Current function value: 90.630748\n",
      "         Iterations: 1\n",
      "         Function evaluations: 49\n",
      "         Gradient evaluations: 37\n"
     ]
    },
    {
     "data": {
      "text/plain": [
       "array([25.20270592, 23.70533892])"
      ]
     },
     "execution_count": 256,
     "metadata": {},
     "output_type": "execute_result"
    }
   ],
   "source": [
    "theta = trainLinearReg(x_norm, y, 0)\n",
    "theta"
   ]
  },
  {
   "cell_type": "code",
   "execution_count": 257,
   "metadata": {},
   "outputs": [
    {
     "data": {
      "image/png": "[encoded data removed]",
      "text/plain": [
       "<Figure size 432x288 with 1 Axes>"
      ]
     },
     "metadata": {
      "needs_background": "light"
     },
     "output_type": "display_data"
    }
   ],
   "source": [
    "plt.scatter(X, y, marker='x', c='red')\n",
    "plt.xlabel('Change in water level(x)')\n",
    "plt.ylabel('Water flowing out of the dam(y)')\n",
    "plt.title('Figure 1: Data')\n",
    "plt.plot(X, x_norm @ theta)\n",
    "plt.show()"
   ]
  },
  {
   "cell_type": "code",
   "execution_count": null,
   "metadata": {},
   "outputs": [],
   "source": []
  },
  {
   "cell_type": "code",
   "execution_count": null,
   "metadata": {},
   "outputs": [],
   "source": []
  }
 ],
 "metadata": {
  "kernelspec": {
   "display_name": "Python 3",
   "language": "python",
   "name": "python3"
  },
  "language_info": {
   "codemirror_mode": {
    "name": "ipython",
    "version": 3
   },
   "file_extension": ".py",
   "mimetype": "text/x-python",
   "name": "python",
   "nbconvert_exporter": "python",
   "pygments_lexer": "ipython3",
   "version": "3.7.1"
  }
 },
 "nbformat": 4,
 "nbformat_minor": 2
}
